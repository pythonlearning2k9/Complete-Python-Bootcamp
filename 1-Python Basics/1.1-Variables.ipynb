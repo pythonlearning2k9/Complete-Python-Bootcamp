{
  "cells": [
    {
      "cell_type": "markdown",
      "metadata": {
        "id": "vmTcZ2WU2Qwf"
      },
      "source": [
        "### Variables\n",
        "Variables are fundamental elements in programming used to store data that can be referenced and manipulated in a program. In Python, variables are created when you assign a value to them, and they do not need explicit declaration to reserve memory space. The declaration happens automatically when you assign a value to a variable.\n",
        "\n",
        "Video Outline:\n",
        "- Introduction to Variables\n",
        "- Declaring and Assigning Variables\n",
        "- Naming Conventions\n",
        "- Understanding Variable Types\n",
        "- Type Checking and Conversion\n",
        "- Dynamic Typing\n",
        "- Practical Examples and Common Errors"
      ]
    },
    {
      "cell_type": "code",
      "execution_count": 2,
      "metadata": {
        "id": "pbieJK3f2Qwg"
      },
      "outputs": [],
      "source": [
        "a=100"
      ]
    },
    {
      "cell_type": "code",
      "execution_count": 19,
      "metadata": {
        "id": "czGkCXu-2Qwh",
        "outputId": "9cdb7b38-c40f-4d8c-8f80-a1db1619c0fe",
        "colab": {
          "base_uri": "https://localhost:8080/"
        }
      },
      "outputs": [
        {
          "output_type": "stream",
          "name": "stdout",
          "text": [
            "age : 33\n",
            "Height: 6.1\n",
            "Name: Krish\n"
          ]
        }
      ],
      "source": [
        "## Declaring And Assigning Variables\n",
        "\n",
        "age=33\n",
        "height=6.1\n",
        "name=\"Krish\"\n",
        "is_student=True\n",
        "\n",
        "## printing the variables\n",
        "\n",
        "print(\"age :\",age)\n",
        "print(\"Height:\",height)\n",
        "print(\"Name:\",name)"
      ]
    },
    {
      "cell_type": "code",
      "execution_count": 21,
      "metadata": {
        "id": "qX9xBo922Qwh"
      },
      "outputs": [],
      "source": [
        "## Naming Conventions\n",
        "## Variable names should be descriptive\n",
        "## They must start with a letter or an '_' and contains letter,numbers and underscores\n",
        "## variables names case sensitive\n",
        "\n",
        "#valid variable names\n",
        "\n",
        "first_name=\"KRish\"\n",
        "last_name=\"Naik\""
      ]
    },
    {
      "cell_type": "code",
      "execution_count": 31,
      "metadata": {
        "id": "o864vblX2Qwi"
      },
      "outputs": [],
      "source": [
        "# Invalid variable names\n",
        "#2age=30\n",
        "#first-name=\"Krish\"\n",
        "##@name=\"Krish\""
      ]
    },
    {
      "cell_type": "code",
      "execution_count": null,
      "metadata": {
        "id": "jfJSfv1R2Qwi"
      },
      "outputs": [],
      "source": [
        "## case sensitivity\n",
        "name=\"Krish\"\n",
        "Name=\"Naik\"\n",
        "\n"
      ]
    },
    {
      "cell_type": "code",
      "execution_count": null,
      "metadata": {
        "id": "azxZ0ftG2Qwi"
      },
      "outputs": [],
      "source": [
        "## Understnading Variable types\n",
        "## Python is dynamically typed,type of a variable is determined at runtime\n",
        "age=25 #int\n",
        "height=6.1 #float\n",
        "name=\"KRish\" #str\n",
        "is_student=True #bool\n",
        "\n",
        "print(type(name))"
      ]
    },
    {
      "cell_type": "code",
      "execution_count": null,
      "metadata": {
        "id": "GLCagMAh2Qwi"
      },
      "outputs": [],
      "source": [
        "## Type Checking and Conversion\n",
        "\n",
        "type(height)"
      ]
    },
    {
      "cell_type": "code",
      "execution_count": null,
      "metadata": {
        "id": "rR5bMf8a2Qwi"
      },
      "outputs": [],
      "source": [
        "age=25\n",
        "print(type(age))\n",
        "\n",
        "# Type conversion\n",
        "age_str=str(age)\n",
        "print(age_str)\n",
        "print(type(age_str))"
      ]
    },
    {
      "cell_type": "code",
      "execution_count": null,
      "metadata": {
        "id": "GVN2BNwI2Qwi"
      },
      "outputs": [],
      "source": [
        "age='25'\n",
        "print(type(int(age)))"
      ]
    },
    {
      "cell_type": "code",
      "execution_count": null,
      "metadata": {
        "id": "eHqeNCdg2Qwj"
      },
      "outputs": [],
      "source": [
        "name=\"Krish\"\n",
        "int(name)"
      ]
    },
    {
      "cell_type": "code",
      "execution_count": null,
      "metadata": {
        "id": "vZPIflfY2Qwj"
      },
      "outputs": [],
      "source": [
        "height=5.11\n",
        "type(height)"
      ]
    },
    {
      "cell_type": "code",
      "execution_count": null,
      "metadata": {
        "id": "jNetdgjd2Qwj"
      },
      "outputs": [],
      "source": [
        "float(int(height))"
      ]
    },
    {
      "cell_type": "code",
      "execution_count": null,
      "metadata": {
        "id": "RqOO2SHu2Qwj"
      },
      "outputs": [],
      "source": [
        "## Dynamic Typing\n",
        "## Python allows the type of a vraible to change as the program executes\n",
        "var=10 #int\n",
        "print(var,type(var))\n",
        "\n",
        "var=\"Hello\"\n",
        "print(var,type(var))\n",
        "\n",
        "var=3.14\n",
        "print(var,type(var))\n",
        "\n"
      ]
    },
    {
      "cell_type": "code",
      "execution_count": null,
      "metadata": {
        "id": "62LxoU_22Qwj"
      },
      "outputs": [],
      "source": [
        "## input\n",
        "\n",
        "age=int(input(\"What is the age\"))\n",
        "print(age,type(age))"
      ]
    },
    {
      "cell_type": "code",
      "execution_count": null,
      "metadata": {
        "id": "mXT0P1Z32Qwj"
      },
      "outputs": [],
      "source": [
        "### Simple calculator\n",
        "num1 = float(input(\"Enter first number: \"))\n",
        "num2 = float(input(\"Enter second number: \"))\n",
        "\n",
        "sum = num1 + num2\n",
        "difference = num1 - num2\n",
        "product = num1 * num2\n",
        "quotient = num1 / num2\n",
        "\n",
        "print(\"Sum:\", sum)\n",
        "print(\"Difference:\", difference)\n",
        "print(\"Product:\", product)\n",
        "print(\"Quotient:\", quotient)\n"
      ]
    },
    {
      "cell_type": "code",
      "execution_count": null,
      "metadata": {
        "id": "pDPNrnxj2Qwj"
      },
      "outputs": [],
      "source": []
    },
    {
      "cell_type": "code",
      "execution_count": null,
      "metadata": {
        "id": "x_iwTP4d2Qwj"
      },
      "outputs": [],
      "source": []
    },
    {
      "cell_type": "code",
      "execution_count": null,
      "metadata": {
        "id": "CS5vr0fg2Qwj"
      },
      "outputs": [],
      "source": []
    },
    {
      "cell_type": "markdown",
      "metadata": {
        "id": "88V4Goby2Qwj"
      },
      "source": [
        "### Conclusion:\n",
        "Variables are essential in Python programming for storing and manipulating data. Understanding how to declare, assign, and use variables effectively is crucial for writing functional and efficient code. Following proper naming conventions and understanding variable types will help in maintaining readability and consistency in your code."
      ]
    },
    {
      "cell_type": "markdown",
      "metadata": {
        "id": "XomzEkqu2Qwj"
      },
      "source": []
    }
  ],
  "metadata": {
    "kernelspec": {
      "display_name": "Python 3",
      "language": "python",
      "name": "python3"
    },
    "language_info": {
      "codemirror_mode": {
        "name": "ipython",
        "version": 3
      },
      "file_extension": ".py",
      "mimetype": "text/x-python",
      "name": "python",
      "nbconvert_exporter": "python",
      "pygments_lexer": "ipython3",
      "version": "3.12.0"
    },
    "colab": {
      "provenance": []
    }
  },
  "nbformat": 4,
  "nbformat_minor": 0
}